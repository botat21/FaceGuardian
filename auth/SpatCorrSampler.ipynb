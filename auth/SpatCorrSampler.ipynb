{
 "cells": [
  {
   "cell_type": "code",
   "execution_count": 1,
   "metadata": {},
   "outputs": [],
   "source": [
    "import torch\n",
    "import torch as tr\n",
    "import torch.nn as nn\n",
    "import torch.nn.functional as F\n",
    "import numpy as np\n",
    "from spatial_correlation_sampler import SpatialCorrelationSampler"
   ]
  },
  {
   "cell_type": "code",
   "execution_count": 2,
   "metadata": {},
   "outputs": [],
   "source": [
    "batch = 1\n",
    "channel = 4\n",
    "patch_size = 5\n",
    "height = 14\n",
    "width = 14\n",
    "\n",
    "# Creating random tensors with the specified properties and moving them to GPU\n",
    "input1 = torch.randn(batch, channel, height, width, dtype=torch.float32, requires_grad=True).cuda()\n",
    "input2 = torch.randn(batch, channel, height, width, dtype=torch.float32, requires_grad=True).cuda()"
   ]
  },
  {
   "cell_type": "code",
   "execution_count": 1,
   "metadata": {
    "ExecuteTime": {
     "end_time": "2023-11-25T17:22:18.482116500Z",
     "start_time": "2023-11-25T17:22:18.460987700Z"
    }
   },
   "outputs": [],
   "source": [
    "def corr_abs_to_rel(corr, h, w, patch_size):\n",
    "    max_d = patch_size // 2\n",
    "\n",
    "    b, c, s = corr.size()\n",
    "    corr = corr.view(b, h, w, h, w)\n",
    "\n",
    "    # Horizontal correlation\n",
    "    w_diag = torch.zeros((b, h, h, patch_size, w), device='cuda')\n",
    "    for i in range(max_d + 1):\n",
    "        w_corr_offset_pos = torch.diagonal(corr, offset=i, dim1=2, dim2=4)\n",
    "        w_corr_offset_pos = F.pad(w_corr_offset_pos, (i, 0))\n",
    "        w_diag[:, :, :, max_d - i] = w_corr_offset_pos\n",
    "\n",
    "        w_corr_offset_neg = torch.diagonal(corr, offset=-i, dim1=2, dim2=4)\n",
    "        w_corr_offset_neg = F.pad(w_corr_offset_neg, (0, i))\n",
    "        w_diag[:, :, :, max_d + i] = w_corr_offset_neg\n",
    "\n",
    "    # Vertical correlation\n",
    "    hw_diag = torch.zeros((b, patch_size, w, patch_size, h), device='cuda')\n",
    "    for i in range(max_d + 1):\n",
    "        h_corr_offset_pos = torch.diagonal(w_diag, offset=i, dim1=1, dim2=2)\n",
    "        h_corr_offset_pos = F.pad(h_corr_offset_pos, (i, 0))\n",
    "        hw_diag[:, :, :, max_d - i] = h_corr_offset_pos\n",
    "\n",
    "        h_corr_offset_neg = torch.diagonal(w_diag, offset=-i, dim1=1, dim2=2)\n",
    "        h_corr_offset_neg = F.pad(h_corr_offset_neg, (0, i))\n",
    "        hw_diag[:, :, :, max_d + i] = h_corr_offset_neg\n",
    "\n",
    "    hw_diag = hw_diag.permute(0, 3, 1, 4, 2).contiguous()\n",
    "    hw_diag = hw_diag.view(-1, patch_size * patch_size, h * w)\n",
    "\n",
    "    return hw_diag"
   ]
  },
  {
   "cell_type": "code",
   "execution_count": 2,
   "metadata": {
    "ExecuteTime": {
     "end_time": "2023-11-25T17:23:36.055983400Z",
     "start_time": "2023-11-25T17:23:35.441686900Z"
    }
   },
   "outputs": [
    {
     "ename": "NameError",
     "evalue": "name 'nn' is not defined",
     "output_type": "error",
     "traceback": [
      "\u001B[1;31m---------------------------------------------------------------------------\u001B[0m",
      "\u001B[1;31mNameError\u001B[0m                                 Traceback (most recent call last)",
      "Cell \u001B[1;32mIn[2], line 2\u001B[0m\n\u001B[0;32m      1\u001B[0m \u001B[38;5;66;03m# Define ReLU activation\u001B[39;00m\n\u001B[1;32m----> 2\u001B[0m relu \u001B[38;5;241m=\u001B[39m nn\u001B[38;5;241m.\u001B[39mReLU()\n\u001B[0;32m      4\u001B[0m \u001B[38;5;66;03m# L2 normalization function\u001B[39;00m\n\u001B[0;32m      5\u001B[0m \u001B[38;5;28;01mdef\u001B[39;00m \u001B[38;5;21mL2normalize\u001B[39m(x, d\u001B[38;5;241m=\u001B[39m\u001B[38;5;241m1\u001B[39m):\n",
      "\u001B[1;31mNameError\u001B[0m: name 'nn' is not defined"
     ]
    }
   ],
   "source": [
    "# Define ReLU activation\n",
    "relu = nn.ReLU()\n",
    "\n",
    "# L2 normalization function\n",
    "def L2normalize(x, d=1):\n",
    "    eps = 1e-6\n",
    "    norm = x.pow(2).sum(dim=d, keepdim=True) + eps\n",
    "    norm = norm.pow(0.5)\n",
    "    return x / norm\n",
    "\n",
    "# Match layer using matrix multiplication\n",
    "def match_layer_mm(feature1, feature2):\n",
    "    # L2 normalize input features\n",
    "    feature1 = L2normalize(feature1)\n",
    "    feature2 = L2normalize(feature2)\n",
    "\n",
    "    # Get dimensions of input features\n",
    "    b, c, h1, w1 = feature1.size()\n",
    "    _, _, h2, w2 = feature2.size()\n",
    "\n",
    "    # Reshape features for matrix multiplication\n",
    "    feature1 = feature1.view(b, c, h1 * w1)\n",
    "    feature2 = feature2.view(b, c, h2 * w2)\n",
    "\n",
    "    # Compute correlation matrix using matrix multiplication\n",
    "    corr = torch.bmm(feature2.transpose(1, 2), feature1)\n",
    "    corr = corr.view(b, h2 * w2, h1 * w1)  # Channel : target // Spatial grid : source\n",
    "\n",
    "    # Apply absolute-to-relative transformation\n",
    "    corr = corr_abs_to_rel(corr, height, width).cuda()  # Assuming height and width for corr_abs_to_rel\n",
    "\n",
    "    # Apply ReLU activation\n",
    "    corr = relu(corr)\n",
    "\n",
    "    return corr\n",
    "\n",
    "# Spatial correlation sampler\n",
    "correlation_sampler = SpatialCorrelationSampler(\n",
    "    kernel_size=1,\n",
    "    patch_size=patch_size,\n",
    "    stride=1,\n",
    "    padding=0,\n",
    "    dilation_patch=1\n",
    ")\n",
    "\n",
    "# Match layer using spatial correlation sampler\n",
    "def match_layer_scs(feature1, feature2):\n",
    "    # L2 normalize input features\n",
    "    feature1 = L2normalize(feature1)\n",
    "    feature2 = L2normalize(feature2)\n",
    "\n",
    "    # Get dimensions of input features\n",
    "    b, c, h1, w1 = feature1.size()\n",
    "    _, _, h2, w2 = feature2.size()\n",
    "\n",
    "    # Compute correlation matrix using spatial correlation sampler\n",
    "    corr = correlation_sampler(feature1, feature2)  # (b, p, p, h, w)\n",
    "    corr = corr.view(b, -1, h1 * w1)\n",
    "\n",
    "    # Apply ReLU activation\n",
    "    corr = relu(corr)\n",
    "\n",
    "    return corr"
   ]
  },
  {
   "cell_type": "code",
   "execution_count": 3,
   "metadata": {
    "ExecuteTime": {
     "end_time": "2023-11-25T17:24:45.529617700Z",
     "start_time": "2023-11-25T17:24:45.501786300Z"
    }
   },
   "outputs": [
    {
     "ename": "NameError",
     "evalue": "name 'match_layer_mm' is not defined",
     "output_type": "error",
     "traceback": [
      "\u001B[1;31m---------------------------------------------------------------------------\u001B[0m",
      "\u001B[1;31mNameError\u001B[0m                                 Traceback (most recent call last)",
      "Cell \u001B[1;32mIn[3], line 2\u001B[0m\n\u001B[0;32m      1\u001B[0m \u001B[38;5;66;03m# Compute correlation using matrix multiplication\u001B[39;00m\n\u001B[1;32m----> 2\u001B[0m corr_mm \u001B[38;5;241m=\u001B[39m match_layer_mm(input1, input2)\n\u001B[0;32m      4\u001B[0m \u001B[38;5;66;03m# Compute correlation using spatial correlation sampler\u001B[39;00m\n\u001B[0;32m      5\u001B[0m corr_scs \u001B[38;5;241m=\u001B[39m match_layer_scs(input1, input2)\n",
      "\u001B[1;31mNameError\u001B[0m: name 'match_layer_mm' is not defined"
     ]
    }
   ],
   "source": [
    "# Compute correlation using matrix multiplication\n",
    "corr_mm = match_layer_mm(input1, input2)\n",
    "\n",
    "# Compute correlation using spatial correlation sampler\n",
    "corr_scs = match_layer_scs(input1, input2)\n",
    "\n",
    "# Print the sizes of the correlation matrices\n",
    "print(\"Matrix Multiplication Correlation Size:\", corr_mm.size())\n",
    "print(\"Spatial Correlation Sampler Correlation Size:\", corr_scs.size())\n",
    "\n",
    "# Check if the two correlation matrices are close\n",
    "are_close = torch.allclose(corr_mm, corr_scs, atol=1e-6)\n",
    "print(\"Are the correlation matrices close?\", are_close)"
   ]
  }
 ],
 "metadata": {
  "kernelspec": {
   "display_name": "Python 3",
   "language": "python",
   "name": "python3"
  },
  "language_info": {
   "codemirror_mode": {
    "name": "ipython",
    "version": 3
   },
   "file_extension": ".py",
   "mimetype": "text/x-python",
   "name": "python",
   "nbconvert_exporter": "python",
   "pygments_lexer": "ipython3",
   "version": "3.6.8"
  }
 },
 "nbformat": 4,
 "nbformat_minor": 4
}
